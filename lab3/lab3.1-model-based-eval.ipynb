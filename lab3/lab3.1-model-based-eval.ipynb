{
 "cells": [
  {
   "cell_type": "markdown",
   "id": "6d8b8be2-25d0-4fd8-adb3-57857424ed84",
   "metadata": {},
   "source": [
    "# Lab 3.1: Evaluate Langfuse Traces using an external evaluation pipeline\n",
    "\n",
    "#### An external evaluation pipeline is useful when you need:\n",
    "- More control over when traces get evaluated. You could schedule the pipeline to run at specific times or responding to event-based triggers like Webhooks.\n",
    "- Greater flexibility with your custom evaluations, when your needs go beyond what’s possible with the Langfuse UI\n",
    "- Version control for your custom evaluations\n",
    "- The ability to evaluate data using existing evaluation frameworks and pre-defined metrics\n",
    "\n",
    "In this notebook, we will learn to implement a external evaluation pipeline by doing the following:\n",
    "1. Create a synthetic dataset to test your models.\n",
    "2. Use the Langfuse client to gather and filter traces of previous model runs\n",
    "3. Evaluate these traces offline and incrementally\n",
    "4. Add scores to existing Langfuse traces"
   ]
  },
  {
   "cell_type": "markdown",
   "id": "699cf5b2",
   "metadata": {},
   "source": [
    "## Prerequisites\n",
    "\n",
    "> ℹ️ You can **skip these prerequisite steps** if you're in an instructor-led workshop using temporary accounts provided by AWS"
   ]
  },
  {
   "cell_type": "code",
   "execution_count": 1,
   "id": "fd76becf-bfb8-48d5-bc3b-ca6b29413351",
   "metadata": {
    "scrolled": true
   },
   "outputs": [
    {
     "name": "stdout",
     "output_type": "stream",
     "text": [
      "Requirement already satisfied: langfuse==2.59.7 in /opt/conda/lib/python3.10/site-packages (2.59.7)\n",
      "Requirement already satisfied: datasets==2.10.1 in /opt/conda/lib/python3.10/site-packages (2.10.1)\n",
      "Requirement already satisfied: pyarrow==12.0.1 in /opt/conda/lib/python3.10/site-packages (12.0.1)\n",
      "Requirement already satisfied: ragas in /opt/conda/lib/python3.10/site-packages (0.3.0)\n",
      "Collecting ragas\n",
      "  Downloading ragas-0.3.1-py3-none-any.whl.metadata (2.6 kB)\n",
      "Requirement already satisfied: python-dotenv in /opt/conda/lib/python3.10/site-packages (1.1.1)\n",
      "Requirement already satisfied: langchain-aws in /opt/conda/lib/python3.10/site-packages (0.2.30)\n",
      "Requirement already satisfied: boto3 in /opt/conda/lib/python3.10/site-packages (1.40.11)\n",
      "Requirement already satisfied: anyio<5.0.0,>=4.4.0 in /opt/conda/lib/python3.10/site-packages (from langfuse==2.59.7) (4.10.0)\n",
      "Requirement already satisfied: backoff>=1.10.0 in /opt/conda/lib/python3.10/site-packages (from langfuse==2.59.7) (2.2.1)\n",
      "Requirement already satisfied: httpx<1.0,>=0.15.4 in /opt/conda/lib/python3.10/site-packages (from langfuse==2.59.7) (0.27.0)\n",
      "Requirement already satisfied: idna<4.0,>=3.7 in /opt/conda/lib/python3.10/site-packages (from langfuse==2.59.7) (3.10)\n",
      "Requirement already satisfied: packaging<25.0,>=23.2 in /opt/conda/lib/python3.10/site-packages (from langfuse==2.59.7) (23.2)\n",
      "Requirement already satisfied: pydantic<3.0,>=1.10.7 in /opt/conda/lib/python3.10/site-packages (from langfuse==2.59.7) (2.11.7)\n",
      "Requirement already satisfied: requests<3,>=2 in /opt/conda/lib/python3.10/site-packages (from langfuse==2.59.7) (2.32.4)\n",
      "Requirement already satisfied: wrapt<2.0,>=1.14 in /opt/conda/lib/python3.10/site-packages (from langfuse==2.59.7) (1.16.0)\n",
      "Requirement already satisfied: numpy>=1.17 in /opt/conda/lib/python3.10/site-packages (from datasets==2.10.1) (1.26.4)\n",
      "Requirement already satisfied: dill<0.3.7,>=0.3.0 in /opt/conda/lib/python3.10/site-packages (from datasets==2.10.1) (0.3.5.1)\n",
      "Requirement already satisfied: pandas in /opt/conda/lib/python3.10/site-packages (from datasets==2.10.1) (2.1.4)\n",
      "Requirement already satisfied: tqdm>=4.62.1 in /opt/conda/lib/python3.10/site-packages (from datasets==2.10.1) (4.67.1)\n",
      "Requirement already satisfied: xxhash in /opt/conda/lib/python3.10/site-packages (from datasets==2.10.1) (3.4.1)\n",
      "Requirement already satisfied: multiprocess in /opt/conda/lib/python3.10/site-packages (from datasets==2.10.1) (0.70.13)\n",
      "Requirement already satisfied: fsspec>=2021.11.1 in /opt/conda/lib/python3.10/site-packages (from fsspec[http]>=2021.11.1->datasets==2.10.1) (2023.6.0)\n",
      "Requirement already satisfied: aiohttp in /opt/conda/lib/python3.10/site-packages (from datasets==2.10.1) (3.9.3)\n",
      "Requirement already satisfied: huggingface-hub<1.0.0,>=0.2.0 in /opt/conda/lib/python3.10/site-packages (from datasets==2.10.1) (0.34.4)\n",
      "Requirement already satisfied: responses<0.19 in /opt/conda/lib/python3.10/site-packages (from datasets==2.10.1) (0.18.0)\n",
      "Requirement already satisfied: pyyaml>=5.1 in /opt/conda/lib/python3.10/site-packages (from datasets==2.10.1) (6.0.1)\n",
      "Requirement already satisfied: tiktoken in /opt/conda/lib/python3.10/site-packages (from ragas) (0.11.0)\n",
      "Requirement already satisfied: langchain in /opt/conda/lib/python3.10/site-packages (from ragas) (0.3.27)\n",
      "Requirement already satisfied: langchain-core in /opt/conda/lib/python3.10/site-packages (from ragas) (0.3.74)\n",
      "Requirement already satisfied: langchain-community in /opt/conda/lib/python3.10/site-packages (from ragas) (0.3.27)\n",
      "Requirement already satisfied: langchain_openai in /opt/conda/lib/python3.10/site-packages (from ragas) (0.3.29)\n",
      "Requirement already satisfied: nest-asyncio in /opt/conda/lib/python3.10/site-packages (from ragas) (1.6.0)\n",
      "Requirement already satisfied: appdirs in /opt/conda/lib/python3.10/site-packages (from ragas) (1.4.4)\n",
      "Requirement already satisfied: openai>1 in /opt/conda/lib/python3.10/site-packages (from ragas) (1.99.6)\n",
      "Requirement already satisfied: diskcache>=5.6.3 in /opt/conda/lib/python3.10/site-packages (from ragas) (5.6.3)\n",
      "Requirement already satisfied: botocore<1.41.0,>=1.40.11 in /opt/conda/lib/python3.10/site-packages (from boto3) (1.40.11)\n",
      "Requirement already satisfied: jmespath<2.0.0,>=0.7.1 in /opt/conda/lib/python3.10/site-packages (from boto3) (1.0.1)\n",
      "Requirement already satisfied: s3transfer<0.14.0,>=0.13.0 in /opt/conda/lib/python3.10/site-packages (from boto3) (0.13.1)\n",
      "Requirement already satisfied: exceptiongroup>=1.0.2 in /opt/conda/lib/python3.10/site-packages (from anyio<5.0.0,>=4.4.0->langfuse==2.59.7) (1.2.0)\n",
      "Requirement already satisfied: sniffio>=1.1 in /opt/conda/lib/python3.10/site-packages (from anyio<5.0.0,>=4.4.0->langfuse==2.59.7) (1.3.1)\n",
      "Requirement already satisfied: typing_extensions>=4.5 in /opt/conda/lib/python3.10/site-packages (from anyio<5.0.0,>=4.4.0->langfuse==2.59.7) (4.14.1)\n",
      "Requirement already satisfied: python-dateutil<3.0.0,>=2.1 in /opt/conda/lib/python3.10/site-packages (from botocore<1.41.0,>=1.40.11->boto3) (2.9.0)\n",
      "Requirement already satisfied: urllib3!=2.2.0,<3,>=1.25.4 in /opt/conda/lib/python3.10/site-packages (from botocore<1.41.0,>=1.40.11->boto3) (1.26.18)\n",
      "Requirement already satisfied: aiosignal>=1.1.2 in /opt/conda/lib/python3.10/site-packages (from aiohttp->datasets==2.10.1) (1.3.1)\n",
      "Requirement already satisfied: attrs>=17.3.0 in /opt/conda/lib/python3.10/site-packages (from aiohttp->datasets==2.10.1) (23.2.0)\n",
      "Requirement already satisfied: frozenlist>=1.1.1 in /opt/conda/lib/python3.10/site-packages (from aiohttp->datasets==2.10.1) (1.4.1)\n",
      "Requirement already satisfied: multidict<7.0,>=4.5 in /opt/conda/lib/python3.10/site-packages (from aiohttp->datasets==2.10.1) (6.0.5)\n",
      "Requirement already satisfied: yarl<2.0,>=1.0 in /opt/conda/lib/python3.10/site-packages (from aiohttp->datasets==2.10.1) (1.9.4)\n",
      "Requirement already satisfied: async-timeout<5.0,>=4.0 in /opt/conda/lib/python3.10/site-packages (from aiohttp->datasets==2.10.1) (4.0.3)\n",
      "Requirement already satisfied: certifi in /opt/conda/lib/python3.10/site-packages (from httpx<1.0,>=0.15.4->langfuse==2.59.7) (2024.2.2)\n",
      "Requirement already satisfied: httpcore==1.* in /opt/conda/lib/python3.10/site-packages (from httpx<1.0,>=0.15.4->langfuse==2.59.7) (1.0.5)\n",
      "Requirement already satisfied: h11<0.15,>=0.13 in /opt/conda/lib/python3.10/site-packages (from httpcore==1.*->httpx<1.0,>=0.15.4->langfuse==2.59.7) (0.14.0)\n",
      "Requirement already satisfied: filelock in /opt/conda/lib/python3.10/site-packages (from huggingface-hub<1.0.0,>=0.2.0->datasets==2.10.1) (3.13.4)\n",
      "Requirement already satisfied: hf-xet<2.0.0,>=1.1.3 in /opt/conda/lib/python3.10/site-packages (from huggingface-hub<1.0.0,>=0.2.0->datasets==2.10.1) (1.1.7)\n",
      "Requirement already satisfied: langsmith>=0.3.45 in /opt/conda/lib/python3.10/site-packages (from langchain-core->ragas) (0.4.13)\n",
      "Requirement already satisfied: tenacity!=8.4.0,<10.0.0,>=8.1.0 in /opt/conda/lib/python3.10/site-packages (from langchain-core->ragas) (8.2.3)\n",
      "Requirement already satisfied: jsonpatch<2.0,>=1.33 in /opt/conda/lib/python3.10/site-packages (from langchain-core->ragas) (1.33)\n",
      "Requirement already satisfied: distro<2,>=1.7.0 in /opt/conda/lib/python3.10/site-packages (from openai>1->ragas) (1.9.0)\n",
      "Requirement already satisfied: jiter<1,>=0.4.0 in /opt/conda/lib/python3.10/site-packages (from openai>1->ragas) (0.10.0)\n",
      "Requirement already satisfied: annotated-types>=0.6.0 in /opt/conda/lib/python3.10/site-packages (from pydantic<3.0,>=1.10.7->langfuse==2.59.7) (0.6.0)\n",
      "Requirement already satisfied: pydantic-core==2.33.2 in /opt/conda/lib/python3.10/site-packages (from pydantic<3.0,>=1.10.7->langfuse==2.59.7) (2.33.2)\n",
      "Requirement already satisfied: typing-inspection>=0.4.0 in /opt/conda/lib/python3.10/site-packages (from pydantic<3.0,>=1.10.7->langfuse==2.59.7) (0.4.1)\n",
      "Requirement already satisfied: charset_normalizer<4,>=2 in /opt/conda/lib/python3.10/site-packages (from requests<3,>=2->langfuse==2.59.7) (3.3.2)\n",
      "Requirement already satisfied: langchain-text-splitters<1.0.0,>=0.3.9 in /opt/conda/lib/python3.10/site-packages (from langchain->ragas) (0.3.9)\n",
      "Requirement already satisfied: SQLAlchemy<3,>=1.4 in /opt/conda/lib/python3.10/site-packages (from langchain->ragas) (1.4.49)\n",
      "Requirement already satisfied: dataclasses-json<0.7,>=0.5.7 in /opt/conda/lib/python3.10/site-packages (from langchain-community->ragas) (0.6.4)\n",
      "Requirement already satisfied: pydantic-settings<3.0.0,>=2.4.0 in /opt/conda/lib/python3.10/site-packages (from langchain-community->ragas) (2.10.1)\n",
      "Requirement already satisfied: httpx-sse<1.0.0,>=0.4.0 in /opt/conda/lib/python3.10/site-packages (from langchain-community->ragas) (0.4.1)\n",
      "Requirement already satisfied: regex>=2022.1.18 in /opt/conda/lib/python3.10/site-packages (from tiktoken->ragas) (2023.12.25)\n",
      "Requirement already satisfied: pytz>=2020.1 in /opt/conda/lib/python3.10/site-packages (from pandas->datasets==2.10.1) (2023.3)\n",
      "Requirement already satisfied: tzdata>=2022.1 in /opt/conda/lib/python3.10/site-packages (from pandas->datasets==2.10.1) (2024.1)\n",
      "Requirement already satisfied: marshmallow<4.0.0,>=3.18.0 in /opt/conda/lib/python3.10/site-packages (from dataclasses-json<0.7,>=0.5.7->langchain-community->ragas) (3.21.1)\n",
      "Requirement already satisfied: typing-inspect<1,>=0.4.0 in /opt/conda/lib/python3.10/site-packages (from dataclasses-json<0.7,>=0.5.7->langchain-community->ragas) (0.9.0)\n",
      "Requirement already satisfied: jsonpointer>=1.9 in /opt/conda/lib/python3.10/site-packages (from jsonpatch<2.0,>=1.33->langchain-core->ragas) (2.4)\n",
      "Requirement already satisfied: orjson>=3.9.14 in /opt/conda/lib/python3.10/site-packages (from langsmith>=0.3.45->langchain-core->ragas) (3.9.15)\n",
      "Requirement already satisfied: requests-toolbelt>=1.0.0 in /opt/conda/lib/python3.10/site-packages (from langsmith>=0.3.45->langchain-core->ragas) (1.0.0)\n",
      "Requirement already satisfied: zstandard>=0.23.0 in /opt/conda/lib/python3.10/site-packages (from langsmith>=0.3.45->langchain-core->ragas) (0.23.0)\n",
      "Requirement already satisfied: six>=1.5 in /opt/conda/lib/python3.10/site-packages (from python-dateutil<3.0.0,>=2.1->botocore<1.41.0,>=1.40.11->boto3) (1.16.0)\n",
      "Requirement already satisfied: greenlet!=0.4.17 in /opt/conda/lib/python3.10/site-packages (from SQLAlchemy<3,>=1.4->langchain->ragas) (3.0.3)\n",
      "Requirement already satisfied: mypy-extensions>=0.3.0 in /opt/conda/lib/python3.10/site-packages (from typing-inspect<1,>=0.4.0->dataclasses-json<0.7,>=0.5.7->langchain-community->ragas) (1.0.0)\n",
      "Downloading ragas-0.3.1-py3-none-any.whl (190 kB)\n",
      "\u001b[2K   \u001b[90m━━━━━━━━━━━━━━━━━━━━━━━━━━━━━━━━━━━━━━━━\u001b[0m \u001b[32m190.7/190.7 kB\u001b[0m \u001b[31m21.4 MB/s\u001b[0m eta \u001b[36m0:00:00\u001b[0m\n",
      "\u001b[?25hInstalling collected packages: ragas\n",
      "  Attempting uninstall: ragas\n",
      "    Found existing installation: ragas 0.3.0\n",
      "    Uninstalling ragas-0.3.0:\n",
      "      Successfully uninstalled ragas-0.3.0\n",
      "Successfully installed ragas-0.3.1\n",
      "Note: you may need to restart the kernel to use updated packages.\n"
     ]
    }
   ],
   "source": [
    "# Uncomment the following line to install dependencies if you are not using AWS workshop environment\n",
    "%pip install langfuse==2.59.7  datasets==2.10.1  pyarrow==12.0.1 ragas python-dotenv langchain-aws boto3 --upgrade"
   ]
  },
  {
   "cell_type": "markdown",
   "id": "5e32f49e",
   "metadata": {},
   "source": [
    "Connect to self-hosted or cloud Langfuse environment."
   ]
  },
  {
   "cell_type": "code",
   "execution_count": 2,
   "id": "4ea0cbc1-7af1-4875-bd2a-0e17ff33cde5",
   "metadata": {},
   "outputs": [],
   "source": [
    "# if you already define the environment variables in the .env of the vscode server, please skip the following cell\n",
    "# Define the environment variables for langfuse\n",
    "# You can find those values when you create the API key in Langfuse\n",
    "import os\n",
    "os.environ[\"LANGFUSE_SECRET_KEY\"] = \"sk-lf-4e80d4e6-6a13-42ef-bbb9-f0df884e16bb\" # Your Langfuse project secret key\n",
    "os.environ[\"LANGFUSE_PUBLIC_KEY\"] = \"pk-lf-87fb97a0-6095-4291-9ce5-7a1a13b8704e\" # Your Langfuse project public key\n",
    "os.environ[\"LANGFUSE_HOST\"] = \"http://langfu-loadb-w7udau70n77l-1274730217.ap-southeast-1.elb.amazonaws.com\" # Langfuse domain"
   ]
  },
  {
   "cell_type": "markdown",
   "id": "9a66d076",
   "metadata": {},
   "source": [
    "## Initialization and Authentication Check\n",
    "Run the following cells to initialize common libraries and clients."
   ]
  },
  {
   "cell_type": "code",
   "execution_count": 3,
   "id": "2ea6967f-1a23-4029-b107-c38e2c74b53e",
   "metadata": {},
   "outputs": [],
   "source": [
    "import sys\n",
    "import os\n",
    "\n",
    "import boto3\n",
    "from langfuse.decorators import langfuse_context, observe"
   ]
  },
  {
   "cell_type": "markdown",
   "id": "bd5342ee",
   "metadata": {},
   "source": [
    "Initialize AWS Bedrock clients and check models available in your account."
   ]
  },
  {
   "cell_type": "code",
   "execution_count": 5,
   "id": "c9823c3f-bfc3-4507-bc14-42bccda623f3",
   "metadata": {
    "scrolled": true
   },
   "outputs": [
    {
     "name": "stdout",
     "output_type": "stream",
     "text": [
      "Found Nova model: US Nova Pro - us.amazon.nova-pro-v1:0\n"
     ]
    }
   ],
   "source": [
    "# used to access Bedrock configuration\n",
    "bedrock = boto3.client(service_name=\"bedrock\", region_name=\"us-east-1\")\n",
    "\n",
    "# Check if Nova models are available in this region\n",
    "models = bedrock.list_inference_profiles()\n",
    "nova_found = False\n",
    "for model in models[\"inferenceProfileSummaries\"]:\n",
    "    if (\n",
    "        \"Nova Pro\" in model[\"inferenceProfileName\"]\n",
    "        or \"Nova Lite\" in model[\"inferenceProfileName\"]\n",
    "        or \"Nova Micro\" in model[\"inferenceProfileName\"]\n",
    "    ):\n",
    "        print(\n",
    "            f\"Found Nova model: {model['inferenceProfileName']} - {model['inferenceProfileId']}\"\n",
    "        )\n",
    "        nova_found = True\n",
    "if not nova_found:\n",
    "    raise ValueError(\n",
    "        \"No Nova models found in available models. Please ensure you have access to Nova models.\"\n",
    "    )"
   ]
  },
  {
   "cell_type": "markdown",
   "id": "660e58d2",
   "metadata": {},
   "source": [
    "Initialize the Langfuse client and check credentials are valid."
   ]
  },
  {
   "cell_type": "code",
   "execution_count": 6,
   "id": "fa452fcb",
   "metadata": {},
   "outputs": [
    {
     "name": "stdout",
     "output_type": "stream",
     "text": [
      "Langfuse has been set up correctly\n",
      "You can access your Langfuse instance at: http://langfu-loadb-w7udau70n77l-1274730217.ap-southeast-1.elb.amazonaws.com\n"
     ]
    }
   ],
   "source": [
    "from langfuse import Langfuse\n",
    "\n",
    "# langfuse client\n",
    "langfuse = Langfuse()\n",
    "if langfuse.auth_check():\n",
    "    print(\"Langfuse has been set up correctly\")\n",
    "    print(f\"You can access your Langfuse instance at: {os.environ['LANGFUSE_HOST']}\")\n",
    "else:\n",
    "    print(\n",
    "        \"Credentials not found or invalid. Check your Langfuse API key and host in the .env file.\"\n",
    "    )"
   ]
  },
  {
   "cell_type": "markdown",
   "id": "3b511da7",
   "metadata": {},
   "source": [
    "### Langfuse Wrappers for Bedrock Converse API "
   ]
  },
  {
   "cell_type": "code",
   "execution_count": 7,
   "id": "1b70cd7c",
   "metadata": {},
   "outputs": [],
   "source": [
    "sys.path.append(os.path.abspath('..'))  # Add parent directory to path\n",
    "from config import MODEL_CONFIG\n",
    "from utils import converse"
   ]
  },
  {
   "cell_type": "markdown",
   "id": "c7ed397a-fd9c-47b1-8d42-cea1894ef30d",
   "metadata": {},
   "source": [
    "# Generate synthetic data\n",
    "\n",
    "In this notebook, we consider a use case of leveraging a LLM to generate product descriptions that can be used in advising the product on an e-commerce page. The first step is to generate a list of products and for each of them, instruct Amazon Nova Lite to \n",
    "generate brief product descriptions."
   ]
  },
  {
   "cell_type": "code",
   "execution_count": 8,
   "id": "0e45d951-8f92-4a0a-8755-bf3b58df7910",
   "metadata": {},
   "outputs": [
    {
     "name": "stdout",
     "output_type": "stream",
     "text": [
      "\n",
      "[Response Content Text]\n",
      "Vibrant Solar-Powered Garden Light, Smart Home Security Camera, Ergonomic Office Chair, Noise-Canceling Wireless Headphones, Multi-Functional Electric Pressure Cooker, Portable Bluetooth Speaker, High-Resolution 4K Smart TV, Advanced Robotic Vacuum Cleaner, Organic Cotton Yoga Mat, Electric Toothbrush with UV Sterilizer, Compact Digital Camera, Adjustable Standing Desk Converter, Smart Thermostat with Energy Monitoring, Professional Blender with Stainless Steel Blades, Wireless Charging Pad with Fast Charging, Anti-Fatigue Kitchen Mat, High-Capacity Travel Backpack, Smart Fitness Tracker, Rechargeable LED Headlamp, Organic Avocado Oil, Electric Wine Opener, Digital Meat Thermometer, Solar-Powered Outdoor Lantern, Smart Pet Feeder, High-Speed Portable SSD, Aromatherapy Essential Oil Diffuser, Ergonomic Computer Mouse, Adjustable Dumbbells Set, Organic Green Tea, Smart Coffee Maker, High-Performance Road Bike, Anti-Slip Bath Mat, Smart Lock with Keyless Entry, High-Quality Acoustic Guitar, Rechargeable Hand Warmer, Organic Flaxseed Oil, Smart Air Purifier, High-Resolution Digital Drawing Tablet, Organic Honey, Smart Indoor Herb Garden, High-Capacity Noise-Canceling Earplugs, Smart Sleep Mask, Organic Chia Seeds, High-Performance Running Shoes, Smart Pet Water Fountain, Organic Coconut Oil, Smart Digital Scale, High-Resolution Action Camera, Organic Almond Butter, Smart Indoor Plant Thermometer, Organic Pumpkin Spice Blend, High-Performance Mountain Bike.\n"
     ]
    }
   ],
   "source": [
    "# Let's prompt the model to generate 50 products\n",
    "messages = [\n",
    "    {\n",
    "        \"role\": \"user\",\n",
    "        \"content\": \"For a variety of 50 different product categories sold on a e-commerce website, \\\n",
    "    generate one product that is interesting to a consumer. The product names should be reflective of the actual product being sold. \\\n",
    "    Generate the 50 product items as comma separated values. Do not generate any additional words apart from the product names\",\n",
    "    },\n",
    "]\n",
    "\n",
    "# Make the API call to the Nova Lite model\n",
    "model_response = converse(messages=messages, **MODEL_CONFIG[\"nova_lite\"])\n",
    "\n",
    "# Print the generated text\n",
    "print(\"\\n[Response Content Text]\")\n",
    "print(model_response)"
   ]
  },
  {
   "cell_type": "code",
   "execution_count": 9,
   "id": "86b45f91-beb0-42ab-8741-1544027caa95",
   "metadata": {
    "scrolled": true
   },
   "outputs": [
    {
     "name": "stdout",
     "output_type": "stream",
     "text": [
      "Vibrant Solar-Powered Garden Light\n",
      "Smart Home Security Camera\n",
      "Ergonomic Office Chair\n",
      "Noise-Canceling Wireless Headphones\n",
      "Multi-Functional Electric Pressure Cooker\n",
      "Portable Bluetooth Speaker\n",
      "High-Resolution 4K Smart TV\n",
      "Advanced Robotic Vacuum Cleaner\n",
      "Organic Cotton Yoga Mat\n",
      "Electric Toothbrush with UV Sterilizer\n",
      "Compact Digital Camera\n",
      "Adjustable Standing Desk Converter\n",
      "Smart Thermostat with Energy Monitoring\n",
      "Professional Blender with Stainless Steel Blades\n",
      "Wireless Charging Pad with Fast Charging\n",
      "Anti-Fatigue Kitchen Mat\n",
      "High-Capacity Travel Backpack\n",
      "Smart Fitness Tracker\n",
      "Rechargeable LED Headlamp\n",
      "Organic Avocado Oil\n",
      "Electric Wine Opener\n",
      "Digital Meat Thermometer\n",
      "Solar-Powered Outdoor Lantern\n",
      "Smart Pet Feeder\n",
      "High-Speed Portable SSD\n",
      "Aromatherapy Essential Oil Diffuser\n",
      "Ergonomic Computer Mouse\n",
      "Adjustable Dumbbells Set\n",
      "Organic Green Tea\n",
      "Smart Coffee Maker\n",
      "High-Performance Road Bike\n",
      "Anti-Slip Bath Mat\n",
      "Smart Lock with Keyless Entry\n",
      "High-Quality Acoustic Guitar\n",
      "Rechargeable Hand Warmer\n",
      "Organic Flaxseed Oil\n",
      "Smart Air Purifier\n",
      "High-Resolution Digital Drawing Tablet\n",
      "Organic Honey\n",
      "Smart Indoor Herb Garden\n",
      "High-Capacity Noise-Canceling Earplugs\n",
      "Smart Sleep Mask\n",
      "Organic Chia Seeds\n",
      "High-Performance Running Shoes\n",
      "Smart Pet Water Fountain\n",
      "Organic Coconut Oil\n",
      "Smart Digital Scale\n",
      "High-Resolution Action Camera\n",
      "Organic Almond Butter\n",
      "Smart Indoor Plant Thermometer\n",
      "Organic Pumpkin Spice Blend\n",
      "High-Performance Mountain Bike.\n"
     ]
    }
   ],
   "source": [
    "# check the model generation outputs\n",
    "products = [item.strip() for item in model_response.split(\",\")]\n",
    "\n",
    "for prd in products:\n",
    "    print(prd)"
   ]
  },
  {
   "cell_type": "markdown",
   "id": "6aa9f700-bd36-4625-b387-3ae16740a3d7",
   "metadata": {},
   "source": [
    "For each of the products, we will now generate product descriptions using Amazon Nova Lite, and capture the traces to Langfuse using the ```@observe()``` decorator"
   ]
  },
  {
   "cell_type": "code",
   "execution_count": null,
   "id": "e11c48c0-9ed1-409b-8b20-b46404b264ef",
   "metadata": {
    "scrolled": true
   },
   "outputs": [
    {
     "name": "stdout",
     "output_type": "stream",
     "text": [
      "Input: Generate a description for Vibrant Solar-Powered Garden Light\n",
      "Output: Illuminate your garden with our Vibrant Solar-Powered Garden Light, capturing the magic of the outdoors effortlessly. Each night, it blooms with color, transforming your space into a serene oasis. Effortlessly installed and eco-friendly, it’s your perfect partner for enchanting evenings. Trust in quality that brightens your life, day by day. \n",
      "\n",
      "Input: Generate a description for Smart Home Security Camera\n",
      "Output: Capture every moment with our Smart Home Security Camera, offering crystal-clear night vision and real-time alerts. Effortlessly safeguard your home with cutting-edge technology that keeps you connected, no matter where you are. Experience peace of mind with our user-friendly app, designed to make monitoring your home a breeze. Trust in our commitment to protect what matters most. \n",
      "\n",
      "Input: Generate a description for Ergonomic Office Chair\n",
      "Output: Elevate your workspace with our Ergonomic Office Chair, designed for comfort and productivity. Experience unparalleled support and style that transforms your daily grind into a joyride. Trust in our commitment to quality, ensuring you sit right, every time. Join the revolution of smart seating today! \n",
      "\n",
      "Input: Generate a description for Noise-Canceling Wireless Headphones\n",
      "Output: Elevate your audio experience with our Noise-Cancelling Wireless Headphones, designed to immerse you in pure sound. Perfect for work, travel, or relaxation, these headphones block out distractions so you can focus on what matters. Experience crystal-clear calls and seamless connectivity with cutting-edge technology. Trust in our quality and redefine your listening journey today. \n",
      "\n",
      "Input: Generate a description for Multi-Functional Electric Pressure Cooker\n",
      "Output: Elevate your cooking game with our Multi-Functional Electric Pressure Cooker – where convenience meets culinary excellence! Effortlessly prepare your favorite meals with precision, saving time without compromising on flavor. From tender stews to fluffy rice, this versatile appliance is your kitchen's new best friend. Trust in quality and innovation; your perfect meal is just a button away! \n",
      "\n",
      "Input: Generate a description for Portable Bluetooth Speaker\n",
      "Output: Unleash the power of music wherever you go with our Portable Bluetooth Speaker! Compact yet robust, it delivers crystal-clear sound and deep bass, making every beat unforgettable. Effortlessly connect with your devices and enjoy hours of non-stop entertainment. Elevate your audio experience and trust in quality that moves with you! \n",
      "\n",
      "Input: Generate a description for High-Resolution 4K Smart TV\n",
      "Output: Experience the magic of lifelike visuals with our High-Resolution 4K Smart TV, where every detail pops! Seamlessly connect to your favorite apps and stream your preferred content effortlessly. Transform your living room into a cinematic haven, and let us elevate your entertainment experience. Trust in our quality and innovation for a smarter, brighter tomorrow. \n",
      "\n",
      "Input: Generate a description for Advanced Robotic Vacuum Cleaner\n",
      "Output: Elevate your cleaning game with our Advanced Robotic Vacuum Cleaner, effortlessly gliding across floors to capture even the tiniest dust particles. Experience the convenience of smart scheduling and powerful suction, freeing up your time for what truly matters. Trust in our cutting-edge technology for a spotless home, every day. Join the revolution of smart cleaning today! \n",
      "\n",
      "Input: Generate a description for Organic Cotton Yoga Mat\n",
      "Output: Elevate your yoga practice with our Organic Cotton Yoga Mat, where nature meets comfort. Crafted from eco-friendly materials, it provides a non-slip, sustainable surface for your mindful moments. Experience the perfect blend of durability and eco-consciousness, making every pose a step towards a greener planet. Trust in quality that nurtures both your practice and the Earth. \n",
      "\n",
      "Input: Generate a description for Electric Toothbrush with UV Sterilizer\n",
      "Output: Brighten your smile with our Electric Toothbrush with UV Sterilizer, ensuring every brush is a clean, germ-free experience! Elevate your oral hygiene routine effortlessly, as our advanced UV technology eradicates 99.9% of bacteria. Enjoy the perfect blend of luxury and health, making every brush a step towards a healthier, happier you. Trust in our commitment to quality and innovation for a brighter, cleaner tomorrow. \n",
      "\n",
      "Input: Generate a description for Compact Digital Camera\n",
      "Output: Capture life's fleeting moments with our Compact Digital Camera – your perfect pocket-sized photographer! Effortlessly blend into any scene with its sleek design and intuitive controls. Perfect for spontaneous adventures, it brings vibrant clarity to every snapshot. Trust in our quality to immortalize your cherished memories. \n",
      "\n",
      "Input: Generate a description for Adjustable Standing Desk Converter\n",
      "Output: Transform your workspace with our Adjustable Standing Desk Converter – the ultimate tool for boosting productivity and health! Effortlessly switch between sitting and standing, reducing fatigue and enhancing focus throughout your day. Crafted with premium quality materials, it’s your partner in a healthier, more dynamic lifestyle. Elevate your office experience today! \n",
      "\n",
      "Input: Generate a description for Smart Thermostat with Energy Monitoring\n",
      "Output: Discover the Smart Thermostat with Energy Monitoring – your home's new best friend! It effortlessly learns your schedule and preferences, saving energy and money while keeping you comfy. Track real-time energy usage and reduce your carbon footprint effortlessly. Experience smarter living today! \n",
      "\n",
      "Input: Generate a description for Professional Blender with Stainless Steel Blades\n",
      "Output: Elevate your culinary game with our Professional Blender, featuring durable stainless steel blades for a smooth, consistent blend every time. Perfect for everything from smoothies to soups, this blender is your kitchen's new powerhouse. Trust in its robust build and precision to transform your meals effortlessly. Blend into a better cooking experience today! \n",
      "\n",
      "Input: Generate a description for Wireless Charging Pad with Fast Charging\n",
      "Output: Elevate your charging experience with our Wireless Charging Pad, designed to deliver lightning-fast charging speeds effortlessly. Simply place your device and let it power up while you unwind. Say goodbye to tangled cords and hello to sleek, modern convenience. Trust in our cutting-edge technology to keep your devices at peak performance. \n",
      "\n",
      "Input: Generate a description for Anti-Fatigue Kitchen Mat\n",
      "Output: Transform your kitchen into a sanctuary of comfort with our Anti-Fatigue Kitchen Mat! Say goodbye to tired feet and hello to hours of blissful cooking. Crafted with premium materials, it offers unbeatable cushioning and slip resistance. Step up your kitchen game with style and support! \n",
      "\n",
      "Input: Generate a description for High-Capacity Travel Backpack\n",
      "Output: Elevate your adventures with our High-Capacity Travel Backpack, designed for explorers who crave both style and functionality. Its spacious compartments ensure all your essentials are organized and easily accessible. Crafted with durability in mind, it promises to be your steadfast companion on every journey. Trust in quality that matches your wanderlust! \n",
      "\n",
      "Input: Generate a description for Smart Fitness Tracker\n",
      "Output: Elevate your fitness journey with our Smart Fitness Tracker – your ultimate companion for a healthier lifestyle! Seamlessly blending style and functionality, it monitors your steps, heart rate, and sleep patterns, empowering you to stay on top of your health goals. With its intuitive interface and long-lasting battery, it’s your go-to device for achieving peak performance effortlessly. Join the fitness revolution today! \n",
      "\n",
      "Input: Generate a description for Rechargeable LED Headlamp\n",
      "Output: Illuminate your adventures with our Rechargeable LED Headlamp, perfect for night hikes, camping, or emergency situations! Its powerful, long-lasting battery ensures you're never left in the dark. Compact and lightweight, it's your trusty companion for any journey. Trust in our quality and brighten your path with ease! \n",
      "\n",
      "Input: Generate a description for Organic Avocado Oil\n",
      "Output: Unlock the secret to luscious locks and radiant skin with our Organic Avocado Oil! Infused with nature's richest nutrients, it's perfect for deep conditioning and nourishing your body inside out. Experience the transformative power of pure, organic goodness today. Elevate your beauty routine with the pure, luscious touch of nature! \n",
      "\n",
      "Input: Generate a description for Electric Wine Opener\n"
     ]
    }
   ],
   "source": [
    "# Generate product descriptions for each product\n",
    "prompt_template = \"You are a product marketer and you need to generate detailed \\\n",
    "product descriptions for products which will be used for selling \\\n",
    "the product on a e-commerce website. Any catchy phrases from the \\\n",
    "descriptions will also be used for social meda campaigns. \\\n",
    "From the product descriptions, customers should be able to understand \\\n",
    "how the product can help them in their lives but also be able to trust \\\n",
    "this company. Your descriptions are fun and engaging. \\\n",
    "Your answer should be 4 sentences at max.\"\n",
    "\n",
    "\n",
    "@observe(name=\"Batch Product Description Generation\")\n",
    "def main():\n",
    "    langfuse_context.update_current_trace(\n",
    "        user_id=\"nova-user-1\",\n",
    "        session_id=\"nova-batch-generation-session\",\n",
    "        tags=[\"lab3.1\"],\n",
    "    )\n",
    "\n",
    "    for product in products:\n",
    "        print(f\"Input: Generate a description for {product}\")\n",
    "        messages = [\n",
    "            {\"role\": \"system\", \"content\": prompt_template},\n",
    "            {\"role\": \"user\", \"content\": f\"Generate a description for {product}\"},\n",
    "        ]\n",
    "        response = converse(\n",
    "            messages, metadata={\"product\": product}, **MODEL_CONFIG[\"nova_lite\"]\n",
    "        )\n",
    "        print(f\"Output: {response} \\n\")\n",
    "\n",
    "\n",
    "main()\n",
    "\n",
    "langfuse_context.flush()"
   ]
  },
  {
   "cell_type": "markdown",
   "id": "63401ad3",
   "metadata": {},
   "source": [
    "Now you should see these product descriptions in the Traces section of the langfuse UI.\n",
    "\n",
    "![Traces collected from the LLM generations](./images/product_description_traces.png \"Langfuse Traces\")\n"
   ]
  },
  {
   "cell_type": "markdown",
   "id": "91c1d0dd-370e-4053-a90a-c3ddfb095677",
   "metadata": {},
   "source": [
    "The goal of this tutorial is to show you how to build an model-based evaluation pipeline. These pipelines will run in your CI/CD environment, or be run in a different orchestrated container service. No matter the environment you choose, three key steps always apply:\n",
    "\n",
    "1. Fetch Your Traces: Get your application traces to your evaluation environment\n",
    "2. Run Your Evaluations: Apply any evaluation logic you prefer\n",
    "3. Save Your Results: Attach your evaluations back to the Langfuse trace used for calculating them.\n",
    "\n",
    "***\n",
    "Goal: This evaluation pipeline is executed on all the traces over the past 24 hours\n",
    "***"
   ]
  },
  {
   "cell_type": "markdown",
   "id": "0762d57d-ad9d-4157-a055-4f1cd68bee0f",
   "metadata": {},
   "source": [
    "## 1. Fetch the traces\n",
    "\n",
    "The ```fetch_traces()``` function has arguments to filter the traces by tags, timestamps, and beyond. We can also choose the number of samples for pagination."
   ]
  },
  {
   "cell_type": "code",
   "execution_count": 12,
   "id": "cb9280ea-d355-40ee-ab59-b91715e16a55",
   "metadata": {},
   "outputs": [
    {
     "name": "stdout",
     "output_type": "stream",
     "text": [
      "Trace ID: 1105a681-00cc-4b04-ab12-00a648fa5c88\n"
     ]
    }
   ],
   "source": [
    "from datetime import datetime, timedelta\n",
    "\n",
    "now = datetime.now()\n",
    "last_24_hours = now - timedelta(days=1)\n",
    "\n",
    "traces_batch = langfuse.fetch_traces(\n",
    "    page=1,\n",
    "    limit=1,\n",
    "    tags=\"lab3.1\",\n",
    "    session_id=\"nova-batch-generation-session\",\n",
    "    from_timestamp=last_24_hours,\n",
    "    to_timestamp=datetime.now(),\n",
    ").data\n",
    "\n",
    "print(f\"Trace ID: {traces_batch[0].id}\")"
   ]
  },
  {
   "cell_type": "code",
   "execution_count": 13,
   "id": "1e9ce965",
   "metadata": {},
   "outputs": [
    {
     "data": {
      "text/plain": [
       "'Elevate your adventures with our High-Performance Mountain Bike, engineered for speed and durability. Conquer the toughest trails with ease, thanks to its robust frame and advanced suspension system. Feel the thrill of the ride while enjoying unmatched comfort and control. Ride smarter, ride better, ride our High-Performance Mountain Bike!'"
      ]
     },
     "execution_count": 13,
     "metadata": {},
     "output_type": "execute_result"
    }
   ],
   "source": [
    "observations = langfuse.fetch_observations(trace_id=traces_batch[0].id, type=\"GENERATION\").data\n",
    "observations[0].output"
   ]
  },
  {
   "cell_type": "markdown",
   "id": "06ff8eea-302e-44ee-a4bf-7595c848f872",
   "metadata": {},
   "source": [
    "## 2. Categorical Evaluation using LLM-as-a-judge\n",
    "\n",
    "Evaluation functions should take a trace as input and yield a valid score.\n",
    "When analyzing the outputs of your LLM applications, you may want to evaluate traits that are defined qualitatively such as readability, helpfulness or measures for reducing hallucinations such as completeness.\n",
    "\n",
    "We're building product descriptions and to ensure it resonates with customers, we want to measure readability. For more LLM-as-a-judge definitions, check out the judge based evaluator prompts defined in the [Amazon Bedrock Evaluator Prompts](https://docs.aws.amazon.com/bedrock/latest/userguide/model-evaluation-type-judge-prompt.html)"
   ]
  },
  {
   "cell_type": "code",
   "execution_count": 14,
   "id": "dbe7fe3a-0ce0-408a-a68b-1b79a11aab29",
   "metadata": {
    "scrolled": true
   },
   "outputs": [
    {
     "name": "stdout",
     "output_type": "stream",
     "text": [
      "User query: Generate a description for High-Performance Mountain Bike.\n",
      "Model answer: Elevate your adventures with our High-Performance Mountain Bike, engineered for speed and durability. Conquer the toughest trails with ease, thanks to its robust frame and advanced suspension system. Feel the thrill of the ride while enjoying unmatched comfort and control. Ride smarter, ride better, ride our High-Performance Mountain Bike!\n",
      "Readability: Answer: excellent readability, Explanation: Explanation: The product description is well-structured and uses clear, concise language. The sentences are straightforward and easy to understand, and the vocabulary is standard and appropriate for the context. The organization is logical, with each sentence building upon the previous one to create a compelling narrative about the benefits of the High-Performance Mountain Bike. There are no poor readability factors present, and the description flows smoothly, making it easy for the average reader to comprehend quickly.\n"
     ]
    }
   ],
   "source": [
    "template_readability = \"\"\"\n",
    "You are a helpful agent that can assess an LLM response according to the given rubrics.\n",
    "\n",
    "You are given a product description generated by a LLM. Your task is to assess the readability of the LLM response to the question, in other words, how easy it is for a typical reading audience to comprehend the response at a normal reading rate.\n",
    "\n",
    "Please rate the readability of the response based on the following scale:\n",
    "- unreadable: The response contains gibberish or could not be comprehended by any normal audience.\n",
    "- poor readability: The response is comprehensible, but it is full of poor readability factors that make comprehension very challenging.\n",
    "- fair readability: The response is comprehensible, but there is a mix of poor readability and good readability factors, so the average reader would need to spend some time processing the text in order to understand it.\n",
    "- good readability: Very few poor readability factors. Mostly clear, well-structured sentences. Standard vocabulary with clear context for any challenging words. Clear organization with topic sentences and supporting details. The average reader could comprehend by reading through quickly one time.\n",
    "- excellent readability: No poor readability factors. Consistently clear, concise, and varied sentence structures. Simple, widely understood vocabulary. Logical organization with smooth transitions between ideas. The average reader may be able to skim the text and understand all necessary points.\n",
    "\n",
    "Here is the product description that needs to be evaluated: {prd_desc}\n",
    "\n",
    "Firstly explain your response, followed by your final answer. You should follow the format\n",
    "Explanation: [Explanation], Answer: [Answer],\n",
    "where '[Answer]' can be one of the following:\n",
    "```\n",
    "unreadable\n",
    "poor readability\n",
    "fair readability\n",
    "good readability\n",
    "excellent readability\n",
    "```\n",
    "\"\"\"\n",
    "\n",
    "@observe(name=\"Readability Evaluation\")\n",
    "def generate_readability_score(trace_output):\n",
    "    prd_desc_readability = template_readability.format(prd_desc=trace_output)\n",
    "    # query = [f\"Rate the readability of product description: {traces_batch[1].output}\"]\n",
    "    readability_score = converse(\n",
    "            messages=[{\"role\": \"user\", \"content\": prd_desc_readability}], **MODEL_CONFIG[\"nova_pro\"]\n",
    "        )\n",
    "    explanation, score = readability_score.split(\"\\n\\n\")\n",
    "    return explanation, score\n",
    "\n",
    "\n",
    "print(f\"User query: {observations[0].input[1]['content']}\")\n",
    "print(f\"Model answer: {observations[0].output}\")\n",
    "explanation, score = generate_readability_score(observations[0].output)\n",
    "print(f\"Readability: {score}, Explanation: {explanation}\")"
   ]
  },
  {
   "cell_type": "markdown",
   "id": "9ffa4aea-f139-43db-8f81-ead648d05029",
   "metadata": {},
   "source": [
    "## 3. Add the evaluation to the trace\n",
    "\n",
    "Now that we have generated a readability score as well as a explanation, we can use the Langfuse client to add scores to existing traces."
   ]
  },
  {
   "cell_type": "code",
   "execution_count": 16,
   "id": "f936b040-4fff-47ae-91ef-cd5c16db3f45",
   "metadata": {},
   "outputs": [],
   "source": [
    "langfuse.score(\n",
    "    trace_id=traces_batch[0].id,\n",
    "    observation_id=observations[0].id,\n",
    "    name=\"readability\",\n",
    "    value=score,\n",
    "    comment=explanation,\n",
    ")\n",
    "langfuse_context.flush()"
   ]
  },
  {
   "cell_type": "markdown",
   "id": "b6a8fee5-a484-4a58-b0d0-72022bfc8f08",
   "metadata": {},
   "source": [
    "# Putting everything together\n",
    "\n",
    "We just saw how to do this for one trace, let's put it all together in a function to run it on all the traces collected in the last 24 hours."
   ]
  },
  {
   "cell_type": "code",
   "execution_count": 19,
   "id": "0288a48c-8703-419c-99a7-a2fc1f3ac1fd",
   "metadata": {},
   "outputs": [],
   "source": [
    "@observe(name=\"Batch Readability Evaluation\")\n",
    "def batch_evaluate():\n",
    "    langfuse_context.update_current_trace(\n",
    "        user_id=\"nova-user-1\",\n",
    "        session_id=\"nova-batch-evals-session\",\n",
    "        tags=[\"lab3.1\"],\n",
    "    )\n",
    "    traces_batch = langfuse.fetch_traces(\n",
    "        page=1,\n",
    "        limit=1,\n",
    "        tags=\"lab3.1\",\n",
    "        session_id=\"nova-batch-generation-session\",\n",
    "        from_timestamp=last_24_hours,\n",
    "        to_timestamp=datetime.now(),\n",
    "    ).data\n",
    "\n",
    "    observations = langfuse.fetch_observations(trace_id=traces_batch[0].id, type=\"GENERATION\").data\n",
    "\n",
    "    for observation in observations[-5:]: # Only evaluate the last 5 observations to save time\n",
    "        print(f\"Processing {observation.id}\")\n",
    "        if observation.output is None:\n",
    "            print(\n",
    "                f\"Warning: \\n Trace {observation.id} had no generated output, \\\n",
    "            it was skipped\"\n",
    "            )\n",
    "            continue\n",
    "        explanation, score = generate_readability_score(observation.output)\n",
    "        print(\"score :\", score)\n",
    "        langfuse.score(\n",
    "            trace_id=traces_batch[0].id,\n",
    "            observation_id=observation.id,\n",
    "            name=\"readability\",\n",
    "            value=score,\n",
    "            comment=explanation,\n",
    "        )"
   ]
  },
  {
   "cell_type": "code",
   "execution_count": 20,
   "id": "e3e60d57",
   "metadata": {},
   "outputs": [
    {
     "name": "stdout",
     "output_type": "stream",
     "text": [
      "Processing 3e6ef786-fcf9-48e8-ae41-a3bc6e541720\n",
      "score : Answer: excellent readability\n",
      "Processing 79fb4a70-f30e-427d-bcfc-88341ac0f8a3\n",
      "score : Answer: excellent readability\n",
      "Processing fac8f325-1784-4111-b7c0-d7a4653ebb24\n",
      "score : Answer: excellent readability\n",
      "Processing 352a2105-fc92-477d-b9d5-fa9c44a865ff\n",
      "score : Answer: excellent readability\n",
      "Processing 571f3847-a8b0-440b-9e04-4379f8d8e2e8\n",
      "score : Answer: excellent readability\n"
     ]
    }
   ],
   "source": [
    "batch_evaluate()\n",
    "\n",
    "langfuse_context.flush()"
   ]
  },
  {
   "cell_type": "markdown",
   "id": "d9d8ed8e-bfb4-471d-a085-47863214b5b1",
   "metadata": {},
   "source": [
    "#### If your pipeline ran successfully, you should now see scores added to your traces\n",
    "\n",
    "![Langfuse Trace with score added for readability](./images/scored_trace.png \"Scored trace on langfuse\")"
   ]
  },
  {
   "cell_type": "markdown",
   "id": "fab301d0",
   "metadata": {},
   "source": [
    "### Congratuations\n",
    "You have successfully finished Lab 3.1.\n",
    "\n",
    "If you are at an AWS event, you can return to the workshop studio for additional instructions before moving into the next lab, where we will explore GenAI guardrails."
   ]
  },
  {
   "cell_type": "code",
   "execution_count": null,
   "id": "9c87aba3-bf78-4dee-a34d-110ecfcb04f7",
   "metadata": {},
   "outputs": [],
   "source": []
  }
 ],
 "metadata": {
  "kernelspec": {
   "display_name": "Python 3 (ipykernel)",
   "language": "python",
   "name": "python3"
  },
  "language_info": {
   "codemirror_mode": {
    "name": "ipython",
    "version": 3
   },
   "file_extension": ".py",
   "mimetype": "text/x-python",
   "name": "python",
   "nbconvert_exporter": "python",
   "pygments_lexer": "ipython3",
   "version": "3.10.14"
  }
 },
 "nbformat": 4,
 "nbformat_minor": 5
}
